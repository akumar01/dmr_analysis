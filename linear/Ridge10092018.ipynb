{
 "cells": [
  {
   "cell_type": "code",
   "execution_count": 2,
   "metadata": {},
   "outputs": [],
   "source": [
    "# %load ../jupyter_imports.py\n",
    "%load_ext autoreload\n",
    "%autoreload 2\n",
    "\n",
    "from pynwb import NWBHDF5IO\n",
    "import numpy as np\n",
    "import matplotlib.pyplot as plt\n",
    "from scipy.signal import correlate\n",
    "from scipy.io import loadmat, savemat\n",
    "from math import floor, ceil\n",
    "# Script to add the entire project directory structure to the python path\n",
    "import sys, os\n",
    "\n",
    "# Find the root directory of the nse project\n",
    "parent_path, current_dir = os.path.split(os.path.abspath('.'))\n",
    "while current_dir not in ['analysis', 'nse']:\n",
    "\tparent_path, current_dir = os.path.split(parent_path)\n",
    "p = os.path.join(parent_path, current_dir)\n",
    "# Add analysis\n",
    "if p not in sys.path:\n",
    "\tsys.path.append(p)\n",
    "\n",
    "# And standard list of subdirectories\n",
    "for d in [\"linear\", \"prelim\", \"utils\", \"kerasmodels\"]:\n",
    "\tif 'p\\\\%s' % d not in sys.path:\n",
    "\t\tsys.path.append('p\\\\%s' % d)\n",
    "\n",
    "# Now import all the other stuff:\n",
    "from utils import preprocess\n",
    "from utils import process\n",
    "from utils import misc \n",
    "from linear import linear_models"
   ]
  },
  {
   "cell_type": "code",
   "execution_count": 17,
   "metadata": {},
   "outputs": [],
   "source": [
    "%load ../standard_prep.py\n",
    "x = loadmat('%s/HighGammaAllChannels10sMovingZ.mat' % misc.get_data_path())\n",
    "e105 = x['data'][:, 104]\n",
    "stim = loadmat('%s/DynRip.cchspct.6oct.100hz' % misc.get_data_path())\n",
    "stim, resp = preprocess.align(stim['spct'], e105)"
   ]
  },
  {
   "cell_type": "code",
   "execution_count": 40,
   "metadata": {},
   "outputs": [
    {
     "name": "stdout",
     "output_type": "stream",
     "text": [
      "---39.792614698410034 seconds---\n",
      "---40.87671613693237 seconds---\n",
      "---40.08782458305359 seconds---\n",
      "---40.284300804138184 seconds---\n",
      "---41.38036894798279 seconds---\n",
      "---40.02000641822815 seconds---\n"
     ]
    }
   ],
   "source": [
    "r1, r2 = linear_models.search_ridge_params(stim, resp)"
   ]
  },
  {
   "cell_type": "code",
   "execution_count": 43,
   "metadata": {},
   "outputs": [
    {
     "data": {
      "text/plain": [
       "array([0.0002104])"
      ]
     },
     "execution_count": 43,
     "metadata": {},
     "output_type": "execute_result"
    }
   ],
   "source": [
    "r"
   ]
  },
  {
   "cell_type": "code",
   "execution_count": 30,
   "metadata": {},
   "outputs": [],
   "source": [
    "# %load ../standard_prep.py\n",
    "p = process.split_data(stim, resp, 2, train_split = 0.8)"
   ]
  },
  {
   "cell_type": "code",
   "execution_count": 33,
   "metadata": {},
   "outputs": [
    {
     "name": "stdout",
     "output_type": "stream",
     "text": [
      "---437.7875723838806 seconds---\n",
      "0.00279246546235371\n",
      "---436.50201177597046 seconds---\n",
      "0.00041374188337018816\n",
      "---437.2460210323334 seconds---\n",
      "0.0008368341066384787\n",
      "---437.70878529548645 seconds---\n",
      "0.00015780532579349435\n",
      "---436.8216531276703 seconds---\n",
      "0.00029472217229323846\n",
      "---437.293541431427 seconds---\n",
      "0.0005531175320595476\n",
      "---437.5150170326233 seconds---\n",
      "0.0007274627709572438\n",
      "---435.4418466091156 seconds---\n",
      "0.0010160212134531074\n",
      "---435.91457891464233 seconds---\n",
      "0.0011607659785886767\n",
      "---435.3590657711029 seconds---\n",
      "0.0014164279705648976\n",
      "---435.4428427219391 seconds---\n",
      "0.0015103951679331126\n",
      "---435.2234275341034 seconds---\n",
      "0.0013719968256410695\n",
      "---435.88765358924866 seconds---\n",
      "0.0014363640429519082\n",
      "---435.17356181144714 seconds---\n",
      "0.001289507307983489\n",
      "---435.653279542923 seconds---\n",
      "0.0014777497012391613\n",
      "---435.2403829097748 seconds---\n",
      "0.0014610846174184973\n",
      "---435.9784104824066 seconds---\n",
      "0.0015213836384020644\n",
      "---437.08844208717346 seconds---\n",
      "0.0013664395341619114\n",
      "---435.5495572090149 seconds---\n",
      "0.00142012304895287\n",
      "---435.38499689102173 seconds---\n",
      "0.0013883569882590882\n",
      "---435.41890597343445 seconds---\n",
      "0.0015365862817189621\n",
      "---437.07148933410645 seconds---\n",
      "0.001391576656544431\n",
      "---436.9278702735901 seconds---\n",
      "0.0014360136746793606\n",
      "---436.59077501296997 seconds---\n",
      "0.0014106226872319762\n",
      "---436.5129795074463 seconds---\n",
      "0.0015391153760705037\n",
      "---437.17820286750793 seconds---\n",
      "0.0013986709407506877\n",
      "---436.4531395435333 seconds---\n",
      "0.0014376164994803686\n",
      "---436.49802017211914 seconds---\n",
      "0.0013798379268166088\n",
      "---436.5698301792145 seconds---\n",
      "0.001406597818824977\n",
      "---437.18319058418274 seconds---\n",
      "0.001283889011359688\n",
      "---436.68352580070496 seconds---\n",
      "0.0013920913825355807\n",
      "---436.7224209308624 seconds---\n",
      "0.0013481253639721085\n",
      "---436.656596660614 seconds---\n",
      "0.0013830283185465996\n",
      "---436.5618507862091 seconds---\n",
      "0.001269900846637352\n",
      "---437.2031352519989 seconds---\n",
      "0.0013037036848944923\n",
      "---438.04289054870605 seconds---\n",
      "0.0012748281450687844\n",
      "---437.8922951221466 seconds---\n",
      "0.0013680004461650978\n",
      "---436.6157054901123 seconds---\n",
      "0.0012532818024875406\n",
      "---437.2220849990845 seconds---\n",
      "0.0012766938351535027\n",
      "---436.85107684135437 seconds---\n",
      "0.001228298467195066\n",
      "---436.6675672531128 seconds---\n",
      "0.0013018701140887026\n",
      "---436.7533390522003 seconds---\n",
      "0.0011946869845257072\n",
      "---437.2639739513397 seconds---\n",
      "0.001256205877002446\n",
      "---436.8321280479431 seconds---\n",
      "0.001257469498554693\n",
      "---436.8470869064331 seconds---\n",
      "0.001318217303333944\n",
      "---436.47109270095825 seconds---\n",
      "0.0012698473446004627\n",
      "---435.7121229171753 seconds---\n",
      "0.0013435893719628417\n",
      "---436.85506653785706 seconds---\n",
      "0.0012379672137863627\n",
      "---436.03924894332886 seconds---\n",
      "0.0013038338171343436\n",
      "---436.12003231048584 seconds---\n",
      "0.001250788923949918\n"
     ]
    }
   ],
   "source": [
    "h, r = linear_models.boosting(process.flatten_spct(p.train_stim), p.train_resp, process.flatten_spct(p.test_stim), p.test_resp, 50)"
   ]
  },
  {
   "cell_type": "code",
   "execution_count": 34,
   "metadata": {},
   "outputs": [
    {
     "data": {
      "text/plain": [
       "(5000,)"
      ]
     },
     "execution_count": 34,
     "metadata": {},
     "output_type": "execute_result"
    }
   ],
   "source": [
    "h.shape"
   ]
  },
  {
   "cell_type": "code",
   "execution_count": 35,
   "metadata": {},
   "outputs": [
    {
     "data": {
      "text/plain": [
       "<matplotlib.collections.PolyCollection at 0x140099d3a20>"
      ]
     },
     "execution_count": 35,
     "metadata": {},
     "output_type": "execute_result"
    },
    {
     "data": {
      "image/png": "[encoded data removed]",
      "text/plain": [
       "<Figure size 432x288 with 1 Axes>"
      ]
     },
     "metadata": {
      "needs_background": "light"
     },
     "output_type": "display_data"
    }
   ],
   "source": [
    "plt.pcolor(np.reshape(h, (100, 50)))"
   ]
  },
  {
   "cell_type": "code",
   "execution_count": 36,
   "metadata": {},
   "outputs": [],
   "source": [
    "savemat('%s/boosting_h.mat' % misc.get_data_path(), dict([('h', h), ('rscore', r)]))"
   ]
  },
  {
   "cell_type": "code",
   "execution_count": 37,
   "metadata": {},
   "outputs": [
    {
     "data": {
      "text/plain": [
       "(8889, 100, 50)"
      ]
     },
     "execution_count": 37,
     "metadata": {},
     "output_type": "execute_result"
    }
   ],
   "source": [
    "p.test_stim.shape"
   ]
  },
  {
   "cell_type": "code",
   "execution_count": null,
   "metadata": {},
   "outputs": [],
   "source": []
  }
 ],
 "metadata": {
  "kernelspec": {
   "display_name": "Python 3",
   "language": "python",
   "name": "python3"
  },
  "language_info": {
   "codemirror_mode": {
    "name": "ipython",
    "version": 3
   },
   "file_extension": ".py",
   "mimetype": "text/x-python",
   "name": "python",
   "nbconvert_exporter": "python",
   "pygments_lexer": "ipython3",
   "version": "3.6.6"
  }
 },
 "nbformat": 4,
 "nbformat_minor": 2
}
