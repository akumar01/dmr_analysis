{
 "cells": [
  {
   "cell_type": "code",
   "execution_count": 3,
   "metadata": {},
   "outputs": [
    {
     "name": "stdout",
     "output_type": "stream",
     "text": [
      "The autoreload extension is already loaded. To reload it, use:\n",
      "  %reload_ext autoreload\n"
     ]
    }
   ],
   "source": [
    "# %load ../jupyter_imports.py\n",
    "%load_ext autoreload\n",
    "%autoreload 2\n",
    "\n",
    "from pynwb import NWBHDF5IO\n",
    "import numpy as np\n",
    "import matplotlib.pyplot as plt\n",
    "from scipy.signal import correlate\n",
    "from scipy.io import loadmat, savemat\n",
    "from math import floor, ceil\n",
    "# Script to add the entire project directory structure to the python path\n",
    "import sys, os\n",
    "\n",
    "# Find the root directory of the nse project\n",
    "parent_path, current_dir = os.path.split(os.path.abspath('.'))\n",
    "while current_dir != 'analysis':\n",
    "\tparent_path, current_dir = os.path.split(parent_path)\n",
    "p = os.path.join(parent_path, current_dir)\n",
    "# Add analysis\n",
    "if p not in sys.path:\n",
    "\tsys.path.append(p)\n",
    "\n",
    "# And standard list of subdirectories\n",
    "for d in [\"linear\", \"prelim\", \"utils\"]:\n",
    "\tif 'p\\\\%s' % d not in sys.path:\n",
    "\t\tsys.path.append('p\\\\%s' % d)\n",
    "\n",
    "# Now import all the other stuff:\n",
    "from utils import preprocess\n",
    "from utils import process\n",
    "from utils import misc \n",
    "from linear import linear_models"
   ]
  },
  {
   "cell_type": "code",
   "execution_count": 5,
   "metadata": {},
   "outputs": [],
   "source": [
    "x = loadmat('%s/HighGammaAllChannels10sMovingZ.mat' % misc.get_data_path())"
   ]
  },
  {
   "cell_type": "code",
   "execution_count": 6,
   "metadata": {},
   "outputs": [
    {
     "data": {
      "text/plain": [
       "(94735, 128)"
      ]
     },
     "execution_count": 6,
     "metadata": {},
     "output_type": "execute_result"
    }
   ],
   "source": [
    "x['data'].shape"
   ]
  },
  {
   "cell_type": "code",
   "execution_count": 7,
   "metadata": {},
   "outputs": [],
   "source": [
    "e105 = x['data'][:, 104]"
   ]
  },
  {
   "cell_type": "code",
   "execution_count": 8,
   "metadata": {},
   "outputs": [],
   "source": [
    "stim = loadmat('%s/DynRip.cchspct.6oct.100hz' % misc.get_data_path())"
   ]
  },
  {
   "cell_type": "code",
   "execution_count": 9,
   "metadata": {},
   "outputs": [],
   "source": [
    "stim, resp = preprocess.align(stim['spct'], e105)"
   ]
  },
  {
   "cell_type": "code",
   "execution_count": 37,
   "metadata": {},
   "outputs": [],
   "source": [
    "p = process.split_data(stim, resp, 2, delay_time=25)"
   ]
  },
  {
   "cell_type": "code",
   "execution_count": 51,
   "metadata": {},
   "outputs": [
    {
     "name": "stdout",
     "output_type": "stream",
     "text": [
      "---20.38519048690796 seconds---\n",
      "-0.011782121093471876\n"
     ]
    },
    {
     "data": {
      "text/plain": [
       "<matplotlib.collections.PolyCollection at 0x2208ad4f048>"
      ]
     },
     "execution_count": 51,
     "metadata": {},
     "output_type": "execute_result"
    },
    {
     "data": {
      "image/png": "[encoded data removed]",
      "text/plain": [
       "<Figure size 432x288 with 1 Axes>"
      ]
     },
     "metadata": {
      "needs_background": "light"
     },
     "output_type": "display_data"
    }
   ],
   "source": [
    "r = linear_models.ridge_regression(process.flatten_spct(p.train_stim), p.train_resp, process.flatten_spct(p.test_stim), p.test_resp)\n",
    "plt.pcolor(np.reshape(r.coef_, (100, 25)).T)"
   ]
  },
  {
   "cell_type": "code",
   "execution_count": 80,
   "metadata": {},
   "outputs": [],
   "source": [
    "p = process.split_data(stim, resp, 2, delay_time=15)"
   ]
  },
  {
   "cell_type": "code",
   "execution_count": 140,
   "metadata": {},
   "outputs": [
    {
     "name": "stdout",
     "output_type": "stream",
     "text": [
      "---627.0451815128326 seconds---\n",
      "0.00048073489646472295\n",
      "---626.5878717899323 seconds---\n",
      "0.00048073489646472295\n",
      "---626.1846241950989 seconds---\n",
      "0.0004807348964647222\n",
      "---625.9227342605591 seconds---\n",
      "0.00048073489646472295\n",
      "---626.0397970676422 seconds---\n",
      "0.00010222263961815443\n",
      "---625.603306055069 seconds---\n",
      "7.552274066191089e-06\n",
      "---626.3621892929077 seconds---\n",
      "1.4189388318141615e-06\n",
      "---625.6072790622711 seconds---\n",
      "5.837008873826932e-06\n",
      "---626.3929424285889 seconds---\n",
      "3.129313625383109e-05\n",
      "---625.6330721378326 seconds---\n",
      "5.5174014186004656e-05\n",
      "---625.4614553451538 seconds---\n",
      "9.728219128412506e-05\n",
      "---625.74764752388 seconds---\n",
      "0.00012423059155420064\n",
      "---623.8529298305511 seconds---\n",
      "0.00017304693901557978\n",
      "---623.3311405181885 seconds---\n",
      "0.00013096761587609847\n",
      "---622.7780981063843 seconds---\n",
      "0.00015509142819949748\n",
      "---622.7160997390747 seconds---\n",
      "0.00017031058495371506\n",
      "---626.8219816684723 seconds---\n",
      "0.0001927231332912994\n",
      "---626.0442543029785 seconds---\n",
      "0.00015062329598000912\n",
      "---623.4705150127411 seconds---\n",
      "0.00019182851387586797\n",
      "---623.0687580108643 seconds---\n",
      "0.00016312172490996738\n",
      "---623.3951208591461 seconds---\n",
      "0.00021977431784600196\n",
      "---623.1004989147186 seconds---\n",
      "0.00017700244700516162\n",
      "---623.0102295875549 seconds---\n",
      "0.00023129180229031088\n",
      "---623.0672664642334 seconds---\n",
      "0.00020075402188786742\n",
      "---623.6059229373932 seconds---\n",
      "0.00023758797273743074\n",
      "---622.9809634685516 seconds---\n",
      "0.00019575606124308602\n",
      "---623.3375883102417 seconds---\n",
      "0.00024555305445583743\n",
      "---623.2527706623077 seconds---\n",
      "0.00021553887169832204\n",
      "---623.0211415290833 seconds---\n",
      "0.00024886229750244117\n",
      "---623.570211648941 seconds---\n",
      "0.00025513382564343784\n",
      "---623.1510927677155 seconds---\n",
      "0.000322447291622704\n",
      "---623.1178586483002 seconds---\n",
      "0.00028066129041359863\n",
      "---623.0960359573364 seconds---\n",
      "0.00034756022775387377\n",
      "---623.1228182315826 seconds---\n",
      "0.00030431077928588644\n",
      "---622.7265198230743 seconds---\n",
      "0.0003358166373299522\n",
      "---623.2116029262543 seconds---\n",
      "0.00029218562682766956\n",
      "---623.3127882480621 seconds---\n",
      "0.0003546035771094062\n",
      "---623.0826425552368 seconds---\n",
      "0.00029723244248062704\n",
      "---623.0042746067047 seconds---\n",
      "0.000326312549528293\n",
      "---623.1704361438751 seconds---\n",
      "0.00028708141930236384\n",
      "---623.1431565284729 seconds---\n",
      "0.00034560494322710727\n",
      "---623.3336205482483 seconds---\n",
      "0.0002838384895977315\n",
      "---623.4075248241425 seconds---\n",
      "0.0003060896279317869\n",
      "---623.5622735023499 seconds---\n",
      "0.0002481251384798171\n",
      "---623.8365604877472 seconds---\n",
      "0.00027492669215790086\n",
      "---624.7825453281403 seconds---\n",
      "0.00022689806310627464\n",
      "---623.8974418640137 seconds---\n",
      "0.0002784078011893662\n",
      "---623.2110056877136 seconds---\n",
      "0.00025891625213071934\n",
      "---623.304854631424 seconds---\n",
      "0.00028516194743697125\n",
      "---622.893961429596 seconds---\n",
      "0.00028851039310158727\n",
      "---623.1806883811951 seconds---\n",
      "0.00021384955519979394\n",
      "---623.1801397800446 seconds---\n",
      "0.0002610575396010451\n",
      "---624.1247317790985 seconds---\n",
      "0.00027323614980750776\n",
      "---623.4942798614502 seconds---\n",
      "0.0002540740734959046\n",
      "---623.7080669403076 seconds---\n",
      "0.000221510459959162\n",
      "---623.345353603363 seconds---\n",
      "0.0002679316690480447\n",
      "---623.4218623638153 seconds---\n",
      "0.0001966578648225828\n",
      "---623.4590661525726 seconds---\n",
      "0.00021560808680423023\n",
      "---623.5562903881073 seconds---\n",
      "0.00017507948607772025\n",
      "---623.7456657886505 seconds---\n",
      "0.0002161650515953276\n",
      "---623.3597800731659 seconds---\n",
      "0.00023959495493145296\n",
      "---623.436384677887 seconds---\n",
      "0.0002211974452476191\n",
      "---624.3706402778625 seconds---\n",
      "0.00024563169665139906\n",
      "---627.3188717365265 seconds---\n",
      "0.00017946422041117876\n",
      "---626.2698292732239 seconds---\n",
      "0.00021994863674204782\n",
      "---623.2789397239685 seconds---\n",
      "0.00019084458147138966\n",
      "---623.2724938392639 seconds---\n",
      "0.0001947360731637065\n",
      "---623.5114629268646 seconds---\n",
      "0.0001680669528637307\n",
      "---623.5414419174194 seconds---\n",
      "0.00016709098596638344\n",
      "---623.0851244926453 seconds---\n",
      "0.00015080230606982504\n",
      "---623.3073301315308 seconds---\n",
      "0.00017824767846717163\n",
      "---623.7383546829224 seconds---\n",
      "0.00013730625248406934\n",
      "---623.7909314632416 seconds---\n",
      "0.00015687004890032398\n",
      "---624.0384333133698 seconds---\n",
      "0.00012372664930414368\n"
     ]
    },
    {
     "ename": "KeyboardInterrupt",
     "evalue": "",
     "output_type": "error",
     "traceback": [
      "\u001b[1;31m---------------------------------------------------------------------------\u001b[0m",
      "\u001b[1;31mKeyboardInterrupt\u001b[0m                         Traceback (most recent call last)",
      "\u001b[1;32m<ipython-input-140-a8334b9884e3>\u001b[0m in \u001b[0;36m<module>\u001b[1;34m()\u001b[0m\n\u001b[1;32m----> 1\u001b[1;33m \u001b[0mh\u001b[0m\u001b[1;33m,\u001b[0m \u001b[0mr\u001b[0m \u001b[1;33m=\u001b[0m \u001b[0mlinear_models\u001b[0m\u001b[1;33m.\u001b[0m\u001b[0mboosting\u001b[0m\u001b[1;33m(\u001b[0m\u001b[0mprocess\u001b[0m\u001b[1;33m.\u001b[0m\u001b[0mflatten_spct\u001b[0m\u001b[1;33m(\u001b[0m\u001b[0mp\u001b[0m\u001b[1;33m.\u001b[0m\u001b[0mtrain_stim\u001b[0m\u001b[1;33m)\u001b[0m\u001b[1;33m,\u001b[0m \u001b[0mp\u001b[0m\u001b[1;33m.\u001b[0m\u001b[0mtrain_resp\u001b[0m\u001b[1;33m,\u001b[0m \u001b[0mprocess\u001b[0m\u001b[1;33m.\u001b[0m\u001b[0mflatten_spct\u001b[0m\u001b[1;33m(\u001b[0m\u001b[0mp\u001b[0m\u001b[1;33m.\u001b[0m\u001b[0mtest_stim\u001b[0m\u001b[1;33m)\u001b[0m\u001b[1;33m,\u001b[0m \u001b[0mp\u001b[0m\u001b[1;33m.\u001b[0m\u001b[0mtest_resp\u001b[0m\u001b[1;33m,\u001b[0m \u001b[1;36m500\u001b[0m\u001b[1;33m)\u001b[0m\u001b[1;33m\u001b[0m\u001b[0m\n\u001b[0m",
      "\u001b[1;32m~\\odrive\\Berkeley Google Drive\\nse\\analysis\\linear\\linear_models.py\u001b[0m in \u001b[0;36mboosting\u001b[1;34m(x, y, xtest, ytest, n_iterations)\u001b[0m\n\u001b[0;32m     62\u001b[0m                                 \u001b[0mhtest\u001b[0m \u001b[1;33m=\u001b[0m \u001b[0mh\u001b[0m\u001b[1;33m.\u001b[0m\u001b[0mcopy\u001b[0m\u001b[1;33m(\u001b[0m\u001b[1;33m)\u001b[0m\u001b[1;33m\u001b[0m\u001b[0m\n\u001b[0;32m     63\u001b[0m                                 \u001b[0mhtest\u001b[0m\u001b[1;33m[\u001b[0m\u001b[0ml\u001b[0m\u001b[1;33m]\u001b[0m \u001b[1;33m+=\u001b[0m \u001b[0mstep_size\u001b[0m \u001b[1;33m*\u001b[0m \u001b[0meta\u001b[0m\u001b[1;33m\u001b[0m\u001b[0m\n\u001b[1;32m---> 64\u001b[1;33m                                 \u001b[0mpred_resp\u001b[0m \u001b[1;33m=\u001b[0m \u001b[0mxtrain\u001b[0m \u001b[1;33m@\u001b[0m \u001b[0mhtest\u001b[0m\u001b[1;33m\u001b[0m\u001b[0m\n\u001b[0m\u001b[0;32m     65\u001b[0m                                 \u001b[1;31m# Calculate the  mean squared error of this new estimate\u001b[0m\u001b[1;33m\u001b[0m\u001b[1;33m\u001b[0m\u001b[0m\n\u001b[0;32m     66\u001b[0m                                 \u001b[0mmses\u001b[0m\u001b[1;33m[\u001b[0m\u001b[0ml\u001b[0m\u001b[1;33m,\u001b[0m \u001b[0mk\u001b[0m\u001b[1;33m]\u001b[0m \u001b[1;33m=\u001b[0m \u001b[0mcalc_mse\u001b[0m\u001b[1;33m(\u001b[0m\u001b[0mpred_resp\u001b[0m\u001b[1;33m,\u001b[0m \u001b[0mytrain\u001b[0m\u001b[1;33m)\u001b[0m\u001b[1;33m\u001b[0m\u001b[0m\n",
      "\u001b[1;31mKeyboardInterrupt\u001b[0m: "
     ]
    }
   ],
   "source": [
    "h, r = linear_models.boosting(process.flatten_spct(p.train_stim), p.train_resp, process.flatten_spct(p.test_stim), p.test_resp, 500)"
   ]
  },
  {
   "cell_type": "code",
   "execution_count": 85,
   "metadata": {},
   "outputs": [],
   "source": [
    "y = np.zeros(10)"
   ]
  },
  {
   "cell_type": "code",
   "execution_count": 124,
   "metadata": {},
   "outputs": [
    {
     "data": {
      "text/plain": [
       "array([0., 0., 0., ..., 0., 0., 0.])"
      ]
     },
     "execution_count": 124,
     "metadata": {},
     "output_type": "execute_result"
    }
   ],
   "source": [
    "h"
   ]
  },
  {
   "cell_type": "code",
   "execution_count": 87,
   "metadata": {},
   "outputs": [],
   "source": [
    "x[3] = 1"
   ]
  },
  {
   "cell_type": "code",
   "execution_count": 88,
   "metadata": {},
   "outputs": [
    {
     "data": {
      "text/plain": [
       "array([0., 0., 0., 1., 0., 0., 0., 0., 0., 0.])"
      ]
     },
     "execution_count": 88,
     "metadata": {},
     "output_type": "execute_result"
    }
   ],
   "source": [
    "x"
   ]
  },
  {
   "cell_type": "code",
   "execution_count": 89,
   "metadata": {},
   "outputs": [
    {
     "data": {
      "text/plain": [
       "array([0., 0., 0., 1., 0., 0., 0., 0., 0., 0.])"
      ]
     },
     "execution_count": 89,
     "metadata": {},
     "output_type": "execute_result"
    }
   ],
   "source": [
    "y"
   ]
  },
  {
   "cell_type": "code",
   "execution_count": 96,
   "metadata": {},
   "outputs": [
    {
     "data": {
      "text/plain": [
       "5.833333333333334"
      ]
     },
     "execution_count": 96,
     "metadata": {},
     "output_type": "execute_result"
    }
   ],
   "source": [
    "100 * 15* 0.14 * 100/3600"
   ]
  },
  {
   "cell_type": "code",
   "execution_count": 106,
   "metadata": {},
   "outputs": [],
   "source": [
    "y = np.array([[1, 3], [4, 2], [5, 0]])"
   ]
  },
  {
   "cell_type": "code",
   "execution_count": 107,
   "metadata": {},
   "outputs": [
    {
     "data": {
      "text/plain": [
       "array([[1, 3],\n",
       "       [4, 2],\n",
       "       [5, 0]])"
      ]
     },
     "execution_count": 107,
     "metadata": {},
     "output_type": "execute_result"
    }
   ],
   "source": [
    "y"
   ]
  },
  {
   "cell_type": "code",
   "execution_count": 114,
   "metadata": {},
   "outputs": [],
   "source": [
    "min1 = np.argmin(y, axis = 0)"
   ]
  },
  {
   "cell_type": "code",
   "execution_count": 109,
   "metadata": {},
   "outputs": [],
   "source": [
    "min2 = np.argmin(np.amin(y, axis = 0))"
   ]
  },
  {
   "cell_type": "code",
   "execution_count": 113,
   "metadata": {},
   "outputs": [
    {
     "data": {
      "text/plain": [
       "2"
      ]
     },
     "execution_count": 113,
     "metadata": {},
     "output_type": "execute_result"
    }
   ],
   "source": [
    "min1[min2]"
   ]
  },
  {
   "cell_type": "code",
   "execution_count": 111,
   "metadata": {},
   "outputs": [
    {
     "data": {
      "text/plain": [
       "1"
      ]
     },
     "execution_count": 111,
     "metadata": {},
     "output_type": "execute_result"
    }
   ],
   "source": [
    "min2"
   ]
  },
  {
   "cell_type": "code",
   "execution_count": 112,
   "metadata": {},
   "outputs": [
    {
     "data": {
      "text/plain": [
       "array([1, 0])"
      ]
     },
     "execution_count": 112,
     "metadata": {},
     "output_type": "execute_result"
    }
   ],
   "source": [
    "np.amin(y, axis = 0)"
   ]
  },
  {
   "cell_type": "code",
   "execution_count": 115,
   "metadata": {},
   "outputs": [
    {
     "data": {
      "text/plain": [
       "array([0, 2], dtype=int64)"
      ]
     },
     "execution_count": 115,
     "metadata": {},
     "output_type": "execute_result"
    }
   ],
   "source": [
    "min1"
   ]
  },
  {
   "cell_type": "code",
   "execution_count": 128,
   "metadata": {},
   "outputs": [
    {
     "data": {
      "text/plain": [
       "array([[1, 3],\n",
       "       [4, 2],\n",
       "       [5, 0]])"
      ]
     },
     "execution_count": 128,
     "metadata": {},
     "output_type": "execute_result"
    }
   ],
   "source": [
    "y"
   ]
  },
  {
   "cell_type": "code",
   "execution_count": 129,
   "metadata": {},
   "outputs": [],
   "source": [
    "y = np.arange(100)"
   ]
  },
  {
   "cell_type": "code",
   "execution_count": 130,
   "metadata": {},
   "outputs": [
    {
     "data": {
      "text/plain": [
       "array([84, 41, 41, 95, 90, 19, 42, 79,  2, 66])"
      ]
     },
     "execution_count": 130,
     "metadata": {},
     "output_type": "execute_result"
    }
   ],
   "source": [
    "np.random.choice(y, 10)"
   ]
  },
  {
   "cell_type": "code",
   "execution_count": 131,
   "metadata": {},
   "outputs": [
    {
     "data": {
      "text/plain": [
       "array([83, 43, 96, 65, 50, 88, 38,  5, 45, 23])"
      ]
     },
     "execution_count": 131,
     "metadata": {},
     "output_type": "execute_result"
    }
   ],
   "source": [
    "np.random.choice(y, 10)"
   ]
  },
  {
   "cell_type": "code",
   "execution_count": 132,
   "metadata": {},
   "outputs": [
    {
     "data": {
      "text/plain": [
       "array([ 7, 77, 35, 97,  7, 29, 60, 94, 79, 49])"
      ]
     },
     "execution_count": 132,
     "metadata": {},
     "output_type": "execute_result"
    }
   ],
   "source": [
    "np.random.choice(y, 10)"
   ]
  },
  {
   "cell_type": "code",
   "execution_count": 135,
   "metadata": {},
   "outputs": [],
   "source": [
    "y[5] += 1"
   ]
  },
  {
   "cell_type": "code",
   "execution_count": 136,
   "metadata": {},
   "outputs": [
    {
     "data": {
      "text/plain": [
       "array([ 0,  1,  2,  3,  4,  6,  6,  7,  8,  9, 10, 11, 12, 13, 14, 15, 16,\n",
       "       17, 18, 19, 20, 21, 22, 23, 24, 25, 26, 27, 28, 29, 30, 31, 32, 33,\n",
       "       34, 35, 36, 37, 38, 39, 40, 41, 42, 43, 44, 45, 46, 47, 48, 49, 50,\n",
       "       51, 52, 53, 54, 55, 56, 57, 58, 59, 60, 61, 62, 63, 64, 65, 66, 67,\n",
       "       68, 69, 70, 71, 72, 73, 74, 75, 76, 77, 78, 79, 80, 81, 82, 83, 84,\n",
       "       85, 86, 87, 88, 89, 90, 91, 92, 93, 94, 95, 96, 97, 98, 99])"
      ]
     },
     "execution_count": 136,
     "metadata": {},
     "output_type": "execute_result"
    }
   ],
   "source": [
    "y"
   ]
  },
  {
   "cell_type": "code",
   "execution_count": null,
   "metadata": {},
   "outputs": [],
   "source": []
  }
 ],
 "metadata": {
  "kernelspec": {
   "display_name": "Python 3",
   "language": "python",
   "name": "python3"
  },
  "language_info": {
   "codemirror_mode": {
    "name": "ipython",
    "version": 3
   },
   "file_extension": ".py",
   "mimetype": "text/x-python",
   "name": "python",
   "nbconvert_exporter": "python",
   "pygments_lexer": "ipython3",
   "version": "3.6.5"
  }
 },
 "nbformat": 4,
 "nbformat_minor": 2
}
