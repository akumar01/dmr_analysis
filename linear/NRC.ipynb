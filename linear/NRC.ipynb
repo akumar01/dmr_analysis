{
 "cells": [
  {
   "cell_type": "code",
   "execution_count": 2,
   "metadata": {},
   "outputs": [],
   "source": [
    "# %load ../jupyter_imports.py\n",
    "%load_ext autoreload\n",
    "%autoreload 2\n",
    "\n",
    "from pynwb import NWBHDF5IO\n",
    "import numpy as np\n",
    "import matplotlib.pyplot as plt\n",
    "from scipy.signal import correlate\n",
    "from scipy.io import loadmat, savemat\n",
    "from math import floor, ceil\n",
    "# Script to add the entire project directory structure to the python path\n",
    "import sys, os\n",
    "\n",
    "# Find the root directory of the nse project\n",
    "parent_path, current_dir = os.path.split(os.path.abspath('.'))\n",
    "while current_dir != 'analysis':\n",
    "\tparent_path, current_dir = os.path.split(parent_path)\n",
    "p = os.path.join(parent_path, current_dir)\n",
    "# Add analysis\n",
    "if p not in sys.path:\n",
    "\tsys.path.append(p)\n",
    "\n",
    "# And standard list of subdirectories\n",
    "for d in [\"linear\", \"prelim\", \"utils\", \"kerasmodels\"]:\n",
    "\tif 'p\\\\%s' % d not in sys.path:\n",
    "\t\tsys.path.append('p\\\\%s' % d)\n",
    "\n",
    "# Now import all the other stuff:\n",
    "from utils import preprocess\n",
    "from utils import process\n",
    "from utils import misc \n",
    "from linear import linear_models"
   ]
  },
  {
   "cell_type": "code",
   "execution_count": 3,
   "metadata": {
    "scrolled": true
   },
   "outputs": [
    {
     "name": "stderr",
     "output_type": "stream",
     "text": [
      "C:\\Users\\Ankit\\Miniconda3\\envs\\nse\\lib\\site-packages\\scipy\\signal\\_arraytools.py:45: FutureWarning: Using a non-tuple sequence for multidimensional indexing is deprecated; use `arr[tuple(seq)]` instead of `arr[seq]`. In the future this will be interpreted as an array index, `arr[np.array(seq)]`, which will result either in an error or a different result.\n",
      "  b = a[a_slice]\n",
      "C:\\Users\\Ankit\\Miniconda3\\envs\\nse\\lib\\site-packages\\scipy\\signal\\signaltools.py:3463: FutureWarning: Using a non-tuple sequence for multidimensional indexing is deprecated; use `arr[tuple(seq)]` instead of `arr[seq]`. In the future this will be interpreted as an array index, `arr[np.array(seq)]`, which will result either in an error or a different result.\n",
      "  return y[sl]\n"
     ]
    }
   ],
   "source": [
    "x = loadmat('%s/HighGammaAllChannels10sMovingZ.mat' % misc.get_data_path())\n",
    "e105 = x['data'][:, 104]\n",
    "stim = loadmat('%s/DynRip.cchspct.6oct.100hz' % misc.get_data_path())\n",
    "stim, resp = preprocess.align(stim['spct'], e105)"
   ]
  },
  {
   "cell_type": "code",
   "execution_count": 100,
   "metadata": {},
   "outputs": [],
   "source": [
    "p = process.split_data(stim, resp, 2, train_split = 0.4)"
   ]
  },
  {
   "cell_type": "code",
   "execution_count": 75,
   "metadata": {
    "scrolled": true
   },
   "outputs": [
    {
     "name": "stdout",
     "output_type": "stream",
     "text": [
      "0/444\n",
      "\n",
      "100/444\n",
      "\n",
      "200/444\n",
      "\n",
      "300/444\n",
      "\n",
      "400/444\n",
      "\n"
     ]
    }
   ],
   "source": [
    "htest = linear_models.nrc(process.flatten_spct(p.train_stim), p.train_resp, 0.9)"
   ]
  },
  {
   "cell_type": "code",
   "execution_count": 79,
   "metadata": {},
   "outputs": [
    {
     "name": "stderr",
     "output_type": "stream",
     "text": [
      "C:\\Users\\Ankit\\nse\\analysis\\utils\\process.py:42: RuntimeWarning: invalid value encountered in log\n",
      "  return binned_data, np.arange(binned_data.size)\n"
     ]
    },
    {
     "ename": "AssertionError",
     "evalue": "",
     "output_type": "error",
     "traceback": [
      "\u001b[1;31m---------------------------------------------------------------------------\u001b[0m",
      "\u001b[1;31mAssertionError\u001b[0m                            Traceback (most recent call last)",
      "\u001b[1;32m<ipython-input-79-7b96e8e5f244>\u001b[0m in \u001b[0;36m<module>\u001b[1;34m\u001b[0m\n\u001b[1;32m----> 1\u001b[1;33m \u001b[0mh2\u001b[0m \u001b[1;33m=\u001b[0m \u001b[0mlinear_models\u001b[0m\u001b[1;33m.\u001b[0m\u001b[0mnrc\u001b[0m\u001b[1;33m(\u001b[0m\u001b[0mprocess\u001b[0m\u001b[1;33m.\u001b[0m\u001b[0mcompress_spct\u001b[0m\u001b[1;33m(\u001b[0m\u001b[0mp\u001b[0m\u001b[1;33m.\u001b[0m\u001b[0mtrain_stim\u001b[0m\u001b[1;33m)\u001b[0m\u001b[1;33m,\u001b[0m \u001b[0mp\u001b[0m\u001b[1;33m.\u001b[0m\u001b[0mtrain_resp\u001b[0m\u001b[1;33m,\u001b[0m \u001b[1;36m0.9\u001b[0m\u001b[1;33m)\u001b[0m\u001b[1;33m\u001b[0m\u001b[0m\n\u001b[0m",
      "\u001b[1;32m~\\nse\\analysis\\linear\\linear_models.py\u001b[0m in \u001b[0;36mnrc\u001b[1;34m(x, y, threshold, approach)\u001b[0m\n\u001b[0;32m    149\u001b[0m \u001b[1;32mdef\u001b[0m \u001b[0mnrc\u001b[0m\u001b[1;33m(\u001b[0m\u001b[0mx\u001b[0m\u001b[1;33m,\u001b[0m \u001b[0my\u001b[0m\u001b[1;33m,\u001b[0m \u001b[0mthreshold\u001b[0m\u001b[1;33m,\u001b[0m \u001b[0mapproach\u001b[0m \u001b[1;33m=\u001b[0m \u001b[1;36m1\u001b[0m\u001b[1;33m)\u001b[0m\u001b[1;33m:\u001b[0m\u001b[1;33m\u001b[0m\u001b[0m\n\u001b[0;32m    150\u001b[0m         \u001b[1;31m# Always check for NaN before running\u001b[0m\u001b[1;33m\u001b[0m\u001b[1;33m\u001b[0m\u001b[0m\n\u001b[1;32m--> 151\u001b[1;33m         \u001b[1;32massert\u001b[0m \u001b[1;32mnot\u001b[0m \u001b[0mcheck_nan\u001b[0m\u001b[1;33m(\u001b[0m\u001b[0mx\u001b[0m\u001b[1;33m)\u001b[0m\u001b[1;33m\u001b[0m\u001b[0m\n\u001b[0m\u001b[0;32m    152\u001b[0m         \u001b[1;32massert\u001b[0m \u001b[1;32mnot\u001b[0m \u001b[0mcheck_nan\u001b[0m\u001b[1;33m(\u001b[0m\u001b[0my\u001b[0m\u001b[1;33m)\u001b[0m\u001b[1;33m\u001b[0m\u001b[0m\n\u001b[0;32m    153\u001b[0m \u001b[1;33m\u001b[0m\u001b[0m\n",
      "\u001b[1;31mAssertionError\u001b[0m: "
     ]
    }
   ],
   "source": [
    "h2 = linear_models.nrc(process.compress_spct(p.train_stim), p.train_resp, 0.9)"
   ]
  },
  {
   "cell_type": "code",
   "execution_count": 81,
   "metadata": {},
   "outputs": [],
   "source": [
    "a = np.arange(10)"
   ]
  },
  {
   "cell_type": "code",
   "execution_count": 68,
   "metadata": {
    "scrolled": true
   },
   "outputs": [],
   "source": [
    "y_pred = process.evaluate_strf(p.test_stim, p.test_resp, h)"
   ]
  },
  {
   "cell_type": "code",
   "execution_count": 69,
   "metadata": {},
   "outputs": [
    {
     "data": {
      "text/plain": [
       "-1.1129189372051642"
      ]
     },
     "execution_count": 69,
     "metadata": {},
     "output_type": "execute_result"
    }
   ],
   "source": [
    "y_pred"
   ]
  },
  {
   "cell_type": "code",
   "execution_count": 66,
   "metadata": {},
   "outputs": [],
   "source": [
    "hreshaped = np.reshape(h, (100, 50))"
   ]
  },
  {
   "cell_type": "code",
   "execution_count": 67,
   "metadata": {},
   "outputs": [
    {
     "data": {
      "text/plain": [
       "<matplotlib.collections.PolyCollection at 0x1fb54c7b1d0>"
      ]
     },
     "execution_count": 67,
     "metadata": {},
     "output_type": "execute_result"
    },
    {
     "data": {
      "image/png": "[encoded data removed]",
      "text/plain": [
       "<Figure size 432x288 with 1 Axes>"
      ]
     },
     "metadata": {
      "needs_background": "light"
     },
     "output_type": "display_data"
    }
   ],
   "source": [
    "plt.pcolor(hreshaped)"
   ]
  },
  {
   "cell_type": "code",
   "execution_count": 47,
   "metadata": {},
   "outputs": [
    {
     "data": {
      "text/plain": [
       "0.00776170358384952"
      ]
     },
     "execution_count": 47,
     "metadata": {},
     "output_type": "execute_result"
    }
   ],
   "source": [
    "np.max(h)"
   ]
  },
  {
   "cell_type": "code",
   "execution_count": 48,
   "metadata": {},
   "outputs": [
    {
     "data": {
      "text/plain": [
       "-0.007452075467478699"
      ]
     },
     "execution_count": 48,
     "metadata": {},
     "output_type": "execute_result"
    }
   ],
   "source": [
    "np.min(h)"
   ]
  },
  {
   "cell_type": "code",
   "execution_count": 49,
   "metadata": {},
   "outputs": [
    {
     "data": {
      "text/plain": [
       "4.910768406059599e-07"
      ]
     },
     "execution_count": 49,
     "metadata": {},
     "output_type": "execute_result"
    }
   ],
   "source": [
    "np.min(np.abs(h))"
   ]
  },
  {
   "cell_type": "code",
   "execution_count": 52,
   "metadata": {},
   "outputs": [],
   "source": [
    "savemat('%s/nrc_strf1.mat' % misc.get_data_path(), dict([('h', h), ('rscore', y_pred)]))n"
   ]
  },
  {
   "cell_type": "code",
   "execution_count": 115,
   "metadata": {
    "scrolled": false
   },
   "outputs": [
    {
     "name": "stdout",
     "output_type": "stream",
     "text": [
      "0/17776\n",
      "\n",
      "100/17776\n",
      "\n",
      "200/17776\n",
      "\n",
      "300/17776\n",
      "\n",
      "400/17776\n",
      "\n",
      "500/17776\n",
      "\n",
      "600/17776\n",
      "\n",
      "700/17776\n",
      "\n",
      "800/17776\n",
      "\n",
      "900/17776\n",
      "\n",
      "1000/17776\n",
      "\n",
      "1100/17776\n",
      "\n",
      "1200/17776\n",
      "\n",
      "1300/17776\n",
      "\n",
      "1400/17776\n",
      "\n",
      "1500/17776\n",
      "\n",
      "1600/17776\n",
      "\n",
      "1700/17776\n",
      "\n",
      "1800/17776\n",
      "\n",
      "1900/17776\n",
      "\n",
      "2000/17776\n",
      "\n",
      "2100/17776\n",
      "\n",
      "2200/17776\n",
      "\n",
      "2300/17776\n",
      "\n",
      "2400/17776\n",
      "\n",
      "2500/17776\n",
      "\n",
      "2600/17776\n",
      "\n",
      "2700/17776\n",
      "\n",
      "2800/17776\n",
      "\n",
      "2900/17776\n",
      "\n",
      "3000/17776\n",
      "\n",
      "3100/17776\n",
      "\n",
      "3200/17776\n",
      "\n",
      "3300/17776\n",
      "\n",
      "3400/17776\n",
      "\n",
      "3500/17776\n",
      "\n",
      "3600/17776\n",
      "\n",
      "3700/17776\n",
      "\n",
      "3800/17776\n",
      "\n",
      "3900/17776\n",
      "\n",
      "4000/17776\n",
      "\n",
      "4100/17776\n",
      "\n",
      "4200/17776\n",
      "\n",
      "4300/17776\n",
      "\n",
      "4400/17776\n",
      "\n",
      "4500/17776\n",
      "\n",
      "4600/17776\n",
      "\n",
      "4700/17776\n",
      "\n",
      "4800/17776\n",
      "\n",
      "4900/17776\n",
      "\n",
      "5000/17776\n",
      "\n",
      "5100/17776\n",
      "\n",
      "5200/17776\n",
      "\n",
      "5300/17776\n",
      "\n",
      "5400/17776\n",
      "\n",
      "5500/17776\n",
      "\n",
      "5600/17776\n",
      "\n",
      "5700/17776\n",
      "\n",
      "5800/17776\n",
      "\n",
      "5900/17776\n",
      "\n",
      "6000/17776\n",
      "\n",
      "6100/17776\n",
      "\n",
      "6200/17776\n",
      "\n",
      "6300/17776\n",
      "\n",
      "6400/17776\n",
      "\n",
      "6500/17776\n",
      "\n",
      "6600/17776\n",
      "\n",
      "6700/17776\n",
      "\n",
      "6800/17776\n",
      "\n",
      "6900/17776\n",
      "\n",
      "7000/17776\n",
      "\n",
      "7100/17776\n",
      "\n",
      "7200/17776\n",
      "\n",
      "7300/17776\n",
      "\n",
      "7400/17776\n",
      "\n",
      "7500/17776\n",
      "\n",
      "7600/17776\n",
      "\n",
      "7700/17776\n",
      "\n",
      "7800/17776\n",
      "\n",
      "7900/17776\n",
      "\n",
      "8000/17776\n",
      "\n",
      "8100/17776\n",
      "\n",
      "8200/17776\n",
      "\n",
      "8300/17776\n",
      "\n",
      "8400/17776\n",
      "\n",
      "8500/17776\n",
      "\n",
      "8600/17776\n",
      "\n",
      "8700/17776\n",
      "\n",
      "8800/17776\n",
      "\n",
      "8900/17776\n",
      "\n",
      "9000/17776\n",
      "\n",
      "9100/17776\n",
      "\n",
      "9200/17776\n",
      "\n",
      "9300/17776\n",
      "\n",
      "9400/17776\n",
      "\n",
      "9500/17776\n",
      "\n"
     ]
    },
    {
     "ename": "KeyboardInterrupt",
     "evalue": "",
     "output_type": "error",
     "traceback": [
      "\u001b[1;31m---------------------------------------------------------------------------\u001b[0m",
      "\u001b[1;31mKeyboardInterrupt\u001b[0m                         Traceback (most recent call last)",
      "\u001b[1;32m<ipython-input-115-eaeb9d2f32f9>\u001b[0m in \u001b[0;36m<module>\u001b[1;34m\u001b[0m\n\u001b[0;32m      1\u001b[0m \u001b[1;31m# Run NRC on the log of the spectrogram\u001b[0m\u001b[1;33m\u001b[0m\u001b[1;33m\u001b[0m\u001b[0m\n\u001b[1;32m----> 2\u001b[1;33m \u001b[0mh2\u001b[0m \u001b[1;33m=\u001b[0m \u001b[0mlinear_models\u001b[0m\u001b[1;33m.\u001b[0m\u001b[0mnrc\u001b[0m\u001b[1;33m(\u001b[0m\u001b[0mprocess\u001b[0m\u001b[1;33m.\u001b[0m\u001b[0mcompress_spct\u001b[0m\u001b[1;33m(\u001b[0m\u001b[0mp\u001b[0m\u001b[1;33m.\u001b[0m\u001b[0mtrain_stim\u001b[0m\u001b[1;33m)\u001b[0m\u001b[1;33m,\u001b[0m \u001b[0mp\u001b[0m\u001b[1;33m.\u001b[0m\u001b[0mtrain_resp\u001b[0m\u001b[1;33m,\u001b[0m \u001b[1;36m0.9\u001b[0m\u001b[1;33m)\u001b[0m\u001b[1;33m\u001b[0m\u001b[0m\n\u001b[0m",
      "\u001b[1;32m~\\nse\\analysis\\linear\\linear_models.py\u001b[0m in \u001b[0;36mnrc\u001b[1;34m(x, y, threshold, approach)\u001b[0m\n\u001b[0;32m    171\u001b[0m                         \u001b[1;31m# the recorded response come first\u001b[0m\u001b[1;33m\u001b[0m\u001b[1;33m\u001b[0m\u001b[0m\n\u001b[0;32m    172\u001b[0m                         \u001b[0mCss\u001b[0m \u001b[1;33m+=\u001b[0m \u001b[0mnp\u001b[0m\u001b[1;33m.\u001b[0m\u001b[0mouter\u001b[0m\u001b[1;33m(\u001b[0m\u001b[0mnp\u001b[0m\u001b[1;33m.\u001b[0m\u001b[0mflip\u001b[0m\u001b[1;33m(\u001b[0m\u001b[0mx\u001b[0m\u001b[1;33m[\u001b[0m\u001b[0mi\u001b[0m\u001b[1;33m,\u001b[0m \u001b[1;33m:\u001b[0m\u001b[1;33m]\u001b[0m\u001b[1;33m)\u001b[0m\u001b[1;33m,\u001b[0m \u001b[0mnp\u001b[0m\u001b[1;33m.\u001b[0m\u001b[0mflip\u001b[0m\u001b[1;33m(\u001b[0m\u001b[0mx\u001b[0m\u001b[1;33m[\u001b[0m\u001b[0mi\u001b[0m\u001b[1;33m,\u001b[0m \u001b[1;33m:\u001b[0m\u001b[1;33m]\u001b[0m\u001b[1;33m)\u001b[0m\u001b[1;33m)\u001b[0m\u001b[1;33m\u001b[0m\u001b[0m\n\u001b[1;32m--> 173\u001b[1;33m                         \u001b[0mCsr\u001b[0m \u001b[1;33m+=\u001b[0m \u001b[0my\u001b[0m\u001b[1;33m[\u001b[0m\u001b[0mi\u001b[0m\u001b[1;33m]\u001b[0m \u001b[1;33m*\u001b[0m \u001b[0mnp\u001b[0m\u001b[1;33m.\u001b[0m\u001b[0mflip\u001b[0m\u001b[1;33m(\u001b[0m\u001b[0mx\u001b[0m\u001b[1;33m[\u001b[0m\u001b[0mi\u001b[0m\u001b[1;33m,\u001b[0m \u001b[1;33m:\u001b[0m\u001b[1;33m]\u001b[0m\u001b[1;33m)\u001b[0m\u001b[1;33m\u001b[0m\u001b[0m\n\u001b[0m\u001b[0;32m    174\u001b[0m \u001b[1;31m#                       print(\"---%s seconds---\" % (time.time() - start_time))\u001b[0m\u001b[1;33m\u001b[0m\u001b[1;33m\u001b[0m\u001b[0m\n\u001b[0;32m    175\u001b[0m                 \u001b[0mCss\u001b[0m \u001b[1;33m*=\u001b[0m \u001b[1;36m1\u001b[0m\u001b[1;33m/\u001b[0m\u001b[0my\u001b[0m\u001b[1;33m.\u001b[0m\u001b[0msize\u001b[0m\u001b[1;33m\u001b[0m\u001b[0m\n",
      "\u001b[1;31mKeyboardInterrupt\u001b[0m: "
     ]
    }
   ],
   "source": [
    "# Run NRC on the log of the spectrogram\n",
    "h2 = linear_models.nrc(process.compress_spct(p.train_stim), p.train_resp, 0.9)"
   ]
  },
  {
   "cell_type": "code",
   "execution_count": 94,
   "metadata": {},
   "outputs": [
    {
     "name": "stderr",
     "output_type": "stream",
     "text": [
      "C:\\Users\\Ankit\\nse\\analysis\\utils\\process.py:43: RuntimeWarning: invalid value encountered in log\n",
      "  pdb.set_trace()\n"
     ]
    }
   ],
   "source": [
    "x = process.compress_spct(p.train_stim)"
   ]
  },
  {
   "cell_type": "code",
   "execution_count": 96,
   "metadata": {},
   "outputs": [
    {
     "data": {
      "text/plain": [
       "(17776, 5000)"
      ]
     },
     "execution_count": 96,
     "metadata": {},
     "output_type": "execute_result"
    }
   ],
   "source": [
    "x.shape"
   ]
  },
  {
   "cell_type": "code",
   "execution_count": 61,
   "metadata": {},
   "outputs": [
    {
     "data": {
      "text/plain": [
       "array([-3.66412977, -4.03982235, -3.63408723, ..., -0.31822119,\n",
       "       -0.44755827, -0.31034014])"
      ]
     },
     "execution_count": 61,
     "metadata": {},
     "output_type": "execute_result"
    }
   ],
   "source": [
    "x[0]"
   ]
  },
  {
   "cell_type": "code",
   "execution_count": 102,
   "metadata": {},
   "outputs": [
    {
     "data": {
      "text/plain": [
       "array([[[0.10152667, 0.09616082, 0.17417401, ..., 0.11779416,\n",
       "         0.18453595, 0.17591503],\n",
       "        [2.00307904, 1.57463414, 2.05633617, ..., 1.34203505,\n",
       "         1.29557189, 1.09777   ],\n",
       "        [3.18753301, 2.42506024, 1.97782126, ..., 2.04601904,\n",
       "         1.57350488, 1.74628094],\n",
       "        ...,\n",
       "        [1.49612826, 1.76365727, 3.8677511 , ..., 2.00530453,\n",
       "         4.30426854, 3.10200185],\n",
       "        [0.83684863, 1.0436208 , 2.06621733, ..., 1.17715833,\n",
       "         2.20849559, 1.57163012],\n",
       "        [0.73807585, 0.95284791, 1.69253314, ..., 1.05791353,\n",
       "         1.81264587, 1.25914285]],\n",
       "\n",
       "       [[0.02869222, 0.01614441, 0.02502685, ..., 0.02264746,\n",
       "         0.03607399, 0.03175837],\n",
       "        [1.24930304, 0.75415619, 0.64910847, ..., 2.50423033,\n",
       "         3.3628441 , 3.8327902 ],\n",
       "        [5.01990219, 3.10283371, 1.91232538, ..., 3.88945152,\n",
       "         4.07144812, 6.63529479],\n",
       "        ...,\n",
       "        [2.84018273, 4.60200211, 2.4856387 , ..., 0.7143552 ,\n",
       "         0.53980738, 0.64139954],\n",
       "        [1.59761731, 2.33570612, 1.26778276, ..., 0.40610583,\n",
       "         0.3475405 , 0.42871124],\n",
       "        [1.40206227, 1.86481541, 1.01883349, ..., 0.37301196,\n",
       "         0.34784473, 0.43760323]],\n",
       "\n",
       "       [[0.23711778, 0.16162155, 0.20534262, ..., 0.14541831,\n",
       "         0.1981938 , 0.1745163 ],\n",
       "        [2.24593423, 2.67206121, 4.17975523, ..., 0.89695098,\n",
       "         0.92754282, 1.45622867],\n",
       "        [1.82507536, 2.94116596, 3.47826535, ..., 1.52877246,\n",
       "         1.48422993, 1.88536063],\n",
       "        ...,\n",
       "        [3.30893677, 2.09722715, 2.17180398, ..., 3.67351811,\n",
       "         2.24921122, 2.67044174],\n",
       "        [1.76912508, 1.20700178, 1.20051323, ..., 1.95609255,\n",
       "         1.27722015, 1.41884861],\n",
       "        [1.50690481, 1.07673237, 1.00727526, ..., 1.61884707,\n",
       "         1.12593729, 1.17033113]],\n",
       "\n",
       "       ...,\n",
       "\n",
       "       [[0.01444735, 0.02206749, 0.03711788, ..., 0.34831516,\n",
       "         0.29139351, 0.2132358 ],\n",
       "        [0.77077789, 0.68679754, 1.36149306, ..., 3.27410143,\n",
       "         2.395556  , 1.92388595],\n",
       "        [2.21160913, 1.66745713, 2.31333102, ..., 1.85041729,\n",
       "         1.24774828, 1.17970053],\n",
       "        ...,\n",
       "        [6.14063385, 5.63803572, 5.35321969, ..., 2.18489284,\n",
       "         3.68590555, 2.51931561],\n",
       "        [2.9826676 , 2.70393206, 2.57070006, ..., 1.23969406,\n",
       "         1.92378777, 1.41178684],\n",
       "        [2.32818876, 2.10778145, 1.99185005, ..., 1.06505466,\n",
       "         1.57167766, 1.22138097]],\n",
       "\n",
       "       [[0.01240563, 0.01168798, 0.015827  , ..., 0.1207723 ,\n",
       "         0.16571394, 0.14272701],\n",
       "        [0.72537951, 0.43902577, 0.29166304, ..., 2.81750805,\n",
       "         3.99873753, 3.63688148],\n",
       "        [0.56559206, 0.41594021, 0.34592378, ..., 3.28812381,\n",
       "         3.38244316, 2.39471362],\n",
       "        ...,\n",
       "        [0.84825903, 0.81126118, 0.81239429, ..., 1.23558465,\n",
       "         0.87784806, 0.65381224],\n",
       "        [0.56752953, 0.5438312 , 0.54281165, ..., 0.78741636,\n",
       "         0.57872913, 0.44398103],\n",
       "        [0.56687509, 0.54358705, 0.54559782, ..., 0.76097677,\n",
       "         0.57302904, 0.45202618]],\n",
       "\n",
       "       [[0.27024963, 0.15728518, 0.10999075, ..., 0.38212473,\n",
       "         0.61955501, 0.54543976],\n",
       "        [1.10425958, 1.12865661, 1.51746354, ..., 3.90009716,\n",
       "         5.02995356, 4.00278947],\n",
       "        [1.9619299 , 3.08953314, 2.75969598, ..., 4.23770618,\n",
       "         2.90343965, 1.83402858],\n",
       "        ...,\n",
       "        [2.55522311, 3.92561542, 4.8469364 , ..., 2.66139578,\n",
       "         3.51125662, 2.33223626],\n",
       "        [1.43749587, 2.07901057, 2.41287831, ..., 1.45149472,\n",
       "         1.84381903, 1.3078601 ],\n",
       "        [1.2651939 , 1.71137924, 1.89872863, ..., 1.20999318,\n",
       "         1.51789075, 1.13525674]]])"
      ]
     },
     "execution_count": 102,
     "metadata": {},
     "output_type": "execute_result"
    }
   ],
   "source": [
    "p.train_stim"
   ]
  },
  {
   "cell_type": "code",
   "execution_count": 62,
   "metadata": {},
   "outputs": [
    {
     "data": {
      "text/plain": [
       "-3.664129867536857"
      ]
     },
     "execution_count": 62,
     "metadata": {},
     "output_type": "execute_result"
    }
   ],
   "source": [
    "np.log(0.02562646)"
   ]
  },
  {
   "cell_type": "code",
   "execution_count": 82,
   "metadata": {},
   "outputs": [],
   "source": [
    "v1 = a[4:5]"
   ]
  },
  {
   "cell_type": "code",
   "execution_count": 83,
   "metadata": {},
   "outputs": [
    {
     "data": {
      "text/plain": [
       "array([4])"
      ]
     },
     "execution_count": 83,
     "metadata": {},
     "output_type": "execute_result"
    }
   ],
   "source": [
    "v1"
   ]
  },
  {
   "cell_type": "code",
   "execution_count": 84,
   "metadata": {},
   "outputs": [],
   "source": [
    "v1 = a[4:6]"
   ]
  },
  {
   "cell_type": "code",
   "execution_count": 85,
   "metadata": {},
   "outputs": [],
   "source": [
    "v1[0] = 0"
   ]
  },
  {
   "cell_type": "code",
   "execution_count": 86,
   "metadata": {},
   "outputs": [
    {
     "data": {
      "text/plain": [
       "array([0, 1, 2, 3, 0, 5, 6, 7, 8, 9])"
      ]
     },
     "execution_count": 86,
     "metadata": {},
     "output_type": "execute_result"
    }
   ],
   "source": [
    "a"
   ]
  },
  {
   "cell_type": "code",
   "execution_count": 113,
   "metadata": {
    "scrolled": true
   },
   "outputs": [],
   "source": [
    "x = process.compress_spct(p.train_stim)"
   ]
  },
  {
   "cell_type": "code",
   "execution_count": 110,
   "metadata": {},
   "outputs": [
    {
     "data": {
      "text/plain": [
       "array([-2.28743375, -2.34173333, -1.74770043, ...,  0.0562986 ,\n",
       "        0.59478758,  0.23043121])"
      ]
     },
     "execution_count": 110,
     "metadata": {},
     "output_type": "execute_result"
    }
   ],
   "source": [
    "x[0]"
   ]
  },
  {
   "cell_type": "code",
   "execution_count": 114,
   "metadata": {},
   "outputs": [
    {
     "data": {
      "text/plain": [
       "array([[0.10152667, 0.09616082, 0.17417401, ..., 0.11779416, 0.18453595,\n",
       "        0.17591503],\n",
       "       [2.00307904, 1.57463414, 2.05633617, ..., 1.34203505, 1.29557189,\n",
       "        1.09777   ],\n",
       "       [3.18753301, 2.42506024, 1.97782126, ..., 2.04601904, 1.57350488,\n",
       "        1.74628094],\n",
       "       ...,\n",
       "       [1.49612826, 1.76365727, 3.8677511 , ..., 2.00530453, 4.30426854,\n",
       "        3.10200185],\n",
       "       [0.83684863, 1.0436208 , 2.06621733, ..., 1.17715833, 2.20849559,\n",
       "        1.57163012],\n",
       "       [0.73807585, 0.95284791, 1.69253314, ..., 1.05791353, 1.81264587,\n",
       "        1.25914285]])"
      ]
     },
     "execution_count": 114,
     "metadata": {},
     "output_type": "execute_result"
    }
   ],
   "source": [
    "p.train_stim[0]"
   ]
  },
  {
   "cell_type": "code",
   "execution_count": 104,
   "metadata": {},
   "outputs": [],
   "source": []
  },
  {
   "cell_type": "code",
   "execution_count": 106,
   "metadata": {},
   "outputs": [],
   "source": [
    "y[0] = 5"
   ]
  },
  {
   "cell_type": "code",
   "execution_count": 107,
   "metadata": {},
   "outputs": [
    {
     "data": {
      "text/plain": [
       "array([5, 5, 5, 5, 5, 5, 6, 7, 8, 9])"
      ]
     },
     "execution_count": 107,
     "metadata": {},
     "output_type": "execute_result"
    }
   ],
   "source": [
    "x"
   ]
  },
  {
   "cell_type": "code",
   "execution_count": 158,
   "metadata": {},
   "outputs": [],
   "source": [
    "xtrain1 = process.flatten_spct(process.remove_channels(p.train_stim, 0))\n",
    "xtest1 = process.flatten_spct(process.remove_channels(p.test_stim, 0))\n",
    "xtrain2 = process.flatten_spct(process.remove_channels(p.train_stim, 1))\n",
    "xtest2 = process.flatten_spct(process.remove_channels(p.test_stim, 1))\n",
    "xtrain2 = process.flatten_spct(process.remove_channels(p.train_stim, 5))\n",
    "xtest2 = process.flatten_spct(process.remove_channels(p.test_stim, 5))"
   ]
  },
  {
   "cell_type": "code",
   "execution_count": 149,
   "metadata": {},
   "outputs": [
    {
     "name": "stdout",
     "output_type": "stream",
     "text": [
      "---37.583348989486694 seconds---\n",
      "-0.35297801513569915\n"
     ]
    }
   ],
   "source": [
    "r1 = linear_models.ridge_regression(xtrain1, p.train_resp, xtest1, p.test_resp)"
   ]
  },
  {
   "cell_type": "code",
   "execution_count": 155,
   "metadata": {},
   "outputs": [
    {
     "name": "stdout",
     "output_type": "stream",
     "text": [
      "---37.23710751533508 seconds---\n",
      "-0.009911632085288113\n"
     ]
    }
   ],
   "source": [
    "r2 = linear_models.ridge_regression(xtrain1, p.train_resp, xtest1, p.test_resp)"
   ]
  },
  {
   "cell_type": "code",
   "execution_count": 160,
   "metadata": {},
   "outputs": [
    {
     "name": "stdout",
     "output_type": "stream",
     "text": [
      "---47.72504472732544 seconds---\n",
      "-0.010391404014749916\n"
     ]
    }
   ],
   "source": [
    "r3 = linear_models.ridge_regression(xtrain1, p.train_resp, xtest1, p.test_resp)"
   ]
  },
  {
   "cell_type": "code",
   "execution_count": 164,
   "metadata": {},
   "outputs": [
    {
     "data": {
      "text/plain": [
       "<matplotlib.collections.PolyCollection at 0x1fadd3066d8>"
      ]
     },
     "execution_count": 164,
     "metadata": {},
     "output_type": "execute_result"
    },
    {
     "data": {
      "image/png": "[encoded data removed]",
      "text/plain": [
       "<Figure size 432x288 with 1 Axes>"
      ]
     },
     "metadata": {
      "needs_background": "light"
     },
     "output_type": "display_data"
    }
   ],
   "source": [
    "plt.pcolor(np.reshape(r3.coef_, (100, 50)))"
   ]
  },
  {
   "cell_type": "code",
   "execution_count": 124,
   "metadata": {},
   "outputs": [
    {
     "name": "stdout",
     "output_type": "stream",
     "text": [
      "---44.43207550048828 seconds---\n",
      "-0.007508992786191548\n"
     ]
    }
   ],
   "source": [
    "r3 = linear_models.ridge_regression(process.compress_spct(process.remove_DC(p.train_stim)), p.train_resp, process.compress_spct(process.remove_DC(p.test_stim)), p.test_resp)"
   ]
  },
  {
   "cell_type": "code",
   "execution_count": 126,
   "metadata": {},
   "outputs": [],
   "source": [
    "weights = np.reshape(r3.coef_, (99, 50))"
   ]
  },
  {
   "cell_type": "code",
   "execution_count": 127,
   "metadata": {},
   "outputs": [
    {
     "data": {
      "text/plain": [
       "<matplotlib.collections.PolyCollection at 0x1fadb06fa58>"
      ]
     },
     "execution_count": 127,
     "metadata": {},
     "output_type": "execute_result"
    },
    {
     "data": {
      "image/png": "[encoded data removed]",
      "text/plain": [
       "<Figure size 432x288 with 1 Axes>"
      ]
     },
     "metadata": {
      "needs_background": "light"
     },
     "output_type": "display_data"
    }
   ],
   "source": [
    "plt.pcolor(weights)"
   ]
  },
  {
   "cell_type": "code",
   "execution_count": null,
   "metadata": {},
   "outputs": [],
   "source": [
    "fig, (ax0, ax1) = plt.subplots(2, 1)\n"
   ]
  }
 ],
 "metadata": {
  "kernelspec": {
   "display_name": "Python 3",
   "language": "python",
   "name": "python3"
  },
  "language_info": {
   "codemirror_mode": {
    "name": "ipython",
    "version": 3
   },
   "file_extension": ".py",
   "mimetype": "text/x-python",
   "name": "python",
   "nbconvert_exporter": "python",
   "pygments_lexer": "ipython3",
   "version": "3.6.6"
  }
 },
 "nbformat": 4,
 "nbformat_minor": 2
}
