{
 "cells": [
  {
   "cell_type": "code",
   "execution_count": 2,
   "metadata": {},
   "outputs": [],
   "source": [
    "# %load ../jupyter_imports.py\n",
    "%load_ext autoreload\n",
    "%autoreload 2\n",
    "\n",
    "from pynwb import NWBHDF5IO\n",
    "import numpy as np\n",
    "import matplotlib.pyplot as plt\n",
    "from scipy.signal import correlate\n",
    "from scipy.io import loadmat, savemat\n",
    "from math import floor, ceil\n",
    "# Script to add the entire project directory structure to the python path\n",
    "import sys, os\n",
    "\n",
    "# Find the root directory of the nse project\n",
    "parent_path, current_dir = os.path.split(os.path.abspath('.'))\n",
    "while current_dir != 'analysis':\n",
    "\tparent_path, current_dir = os.path.split(parent_path)\n",
    "p = os.path.join(parent_path, current_dir)\n",
    "# Add analysis\n",
    "if p not in sys.path:\n",
    "\tsys.path.append(p)\n",
    "\n",
    "# And standard list of subdirectories\n",
    "for d in [\"linear\", \"prelim\", \"utils\", \"kerasmodels\"]:\n",
    "\tif 'p\\\\%s' % d not in sys.path:\n",
    "\t\tsys.path.append('p\\\\%s' % d)\n",
    "\n",
    "# Now import all the other stuff:\n",
    "from utils import preprocess\n",
    "from utils import process\n",
    "from utils import misc \n",
    "from linear import linear_models"
   ]
  },
  {
   "cell_type": "code",
   "execution_count": 3,
   "metadata": {},
   "outputs": [
    {
     "name": "stderr",
     "output_type": "stream",
     "text": [
      "C:\\Users\\Ankit\\Miniconda3\\envs\\nse\\lib\\site-packages\\scipy\\signal\\_arraytools.py:45: FutureWarning: Using a non-tuple sequence for multidimensional indexing is deprecated; use `arr[tuple(seq)]` instead of `arr[seq]`. In the future this will be interpreted as an array index, `arr[np.array(seq)]`, which will result either in an error or a different result.\n",
      "  b = a[a_slice]\n",
      "C:\\Users\\Ankit\\Miniconda3\\envs\\nse\\lib\\site-packages\\scipy\\signal\\signaltools.py:3463: FutureWarning: Using a non-tuple sequence for multidimensional indexing is deprecated; use `arr[tuple(seq)]` instead of `arr[seq]`. In the future this will be interpreted as an array index, `arr[np.array(seq)]`, which will result either in an error or a different result.\n",
      "  return y[sl]\n"
     ]
    }
   ],
   "source": [
    "x = loadmat('%s/HighGammaAllChannels10sMovingZ.mat' % misc.get_data_path())\n",
    "e105 = x['data'][:, 104]\n",
    "stim = loadmat('%s/DynRip.cchspct.6oct.100hz' % misc.get_data_path())\n",
    "stim, resp = preprocess.align(stim['spct'], e105)"
   ]
  },
  {
   "cell_type": "code",
   "execution_count": 4,
   "metadata": {},
   "outputs": [],
   "source": [
    "p = process.split_data(stim, resp, 2)"
   ]
  },
  {
   "cell_type": "code",
   "execution_count": null,
   "metadata": {},
   "outputs": [],
   "source": [
    "h = linear_models.nrc(process.flatten_spct(p.train_stim), p.train_resp, 0.9)"
   ]
  },
  {
   "cell_type": "code",
   "execution_count": null,
   "metadata": {},
   "outputs": [],
   "source": []
  }
 ],
 "metadata": {
  "kernelspec": {
   "display_name": "Python 3",
   "language": "python",
   "name": "python3"
  },
  "language_info": {
   "codemirror_mode": {
    "name": "ipython",
    "version": 3
   },
   "file_extension": ".py",
   "mimetype": "text/x-python",
   "name": "python",
   "nbconvert_exporter": "python",
   "pygments_lexer": "ipython3",
   "version": "3.6.6"
  }
 },
 "nbformat": 4,
 "nbformat_minor": 2
}
